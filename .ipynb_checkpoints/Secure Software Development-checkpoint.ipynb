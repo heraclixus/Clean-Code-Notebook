{
 "cells": [
  {
   "cell_type": "markdown",
   "metadata": {},
   "source": [
    "### Four common Phases \n",
    "* Requirements \n",
    "    * Security Requirement \n",
    "    * Abuse Cases \n",
    "* Design\n",
    "    * Architectural Risk Analysis / Thread Modeling \n",
    "    * Security Oriented Design\n",
    "* Implementation\n",
    "    * Code Review \n",
    "* Testing/Assurance \n",
    "    * Risk-based Security Tests \n",
    "    * Penetration Testing \n",
    "    \n",
    "   \n",
    "#### Thread Model\n",
    "The Threat Model makes explicit the adversary's assumed powers\n",
    "    * Consequence: the threat model must match reality, otherwise the risk analysis of the system will be wrong.\n",
    "    \n",
    "The threat model is __critically important__.\n",
    "    * if you are not explicit about what an attacker can do, how can you assess whether your design will repel that attacker?\n",
    "    * this is a part of Architectural Risks Analysis \n",
    "\n",
    "This process thus involves analyzing the _Attack Vector_ of the situation, and find out the common vulnerabilities in the situation. \n",
    "There are three main categories of attackers that embody different attack vectors.\n",
    "* __Network-only attackers__: this implies message traffic is safe \n",
    "    * No need to encrypt communications \n",
    "    * This is what `telnet` remote login software assumed\n",
    "* __Snooping attackers__: this implies that message traffic is visible:\n",
    "    * So use encrypted wifi, network layer (IPSec), or encrypted application layer (SSL) \n",
    "    \n",
    "* __Co-located attacker__: this implies malware is installed on the victim's machine, and can access local files, memory\n",
    "    * So cannot use unencrypted secrets. like passwords.\n",
    "    * Use a second device for authentication (assume it's not compromised)\n",
    "    \n",
    "A poorly chosen model results in poor security. \n",
    "Finding a Good Model requires:\n",
    "* __Compare against similar systems__: what attacks does their design contend with?\n",
    "* __Understand past attacks and attack patterns__: How do they apply to your system? \n",
    "* __Challenge assumptions in your design__: \n",
    "    * what happens if an assumption is untrue? and what will it potentially cost you?\n",
    "    * How hard would it be to get rid of an assumption, allowing for a stronger adversary? What would the development cost? "
   ]
  },
  {
   "cell_type": "code",
   "execution_count": null,
   "metadata": {
    "collapsed": true
   },
   "outputs": [],
   "source": []
  }
 ],
 "metadata": {
  "kernelspec": {
   "display_name": "Python 3",
   "language": "python",
   "name": "python3"
  },
  "language_info": {
   "codemirror_mode": {
    "name": "ipython",
    "version": 3
   },
   "file_extension": ".py",
   "mimetype": "text/x-python",
   "name": "python",
   "nbconvert_exporter": "python",
   "pygments_lexer": "ipython3",
   "version": "3.6.3"
  }
 },
 "nbformat": 4,
 "nbformat_minor": 2
}
